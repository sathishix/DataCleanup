{
 "cells": [
  {
   "cell_type": "code",
   "execution_count": 600,
   "metadata": {
    "collapsed": true
   },
   "outputs": [],
   "source": [
    "import re\n",
    "import pandas as pd\n",
    "import matplotlib.pyplot as plt\n",
    "import numpy as np\n",
    "%matplotlib inline"
   ]
  },
  {
   "cell_type": "code",
   "execution_count": 468,
   "metadata": {},
   "outputs": [],
   "source": [
    "#Open Sample_data file and read each line based on new line\n",
    "file_object=open(\"C:\\\\Users\\\\Desktop\\\\Python\\\\Sample_Data.csv\", encoding = 'utf8')\n",
    "data=file_object.read()\n",
    "rows=data.split('\\n')"
   ]
  },
  {
   "cell_type": "code",
   "execution_count": 445,
   "metadata": {},
   "outputs": [],
   "source": [
    "#Count delimiter count from the header of the file\n",
    "delimiter_count=len(rows[0].split(','))"
   ]
  },
  {
   "cell_type": "code",
   "execution_count": 480,
   "metadata": {},
   "outputs": [],
   "source": [
    "bad_data={}\n",
    "good_data=[]\n",
    "good_data_list=[]\n",
    "for idx,line_data in enumerate(rows) : \n",
    "    bad_data[idx]={}\n",
    "    #Blank space row moving into bad_data\n",
    "    if line_data=='': \n",
    "        bad_data[idx][\"Blank Row\"]=line_data\n",
    "    #Special Characters row moving into bad_data\n",
    "    elif re.search(r'[@#!\\$ひらが]',line_data) :        \n",
    "        bad_data[idx][\"Special Characters\"]=line_data\n",
    "    elif len(line_data.replace(',',''))==0 :\n",
    "        bad_data[idx][\"Empty String\"]=line_data\n",
    "    #Inconsistent delimiter row moving into bad_data\n",
    "    elif  len(line_data.split(','))!= delimiter_count :\n",
    "        bad_data[idx][\"Inconsistent Delimiter\"]=line_data\n",
    "    else :\n",
    "        con=str(idx)+\",\"+line_data\n",
    "        good_data.append(con)\n",
    "    \n",
    "bad_data={key: value for (key,value) in  bad_data.items() if value} \n",
    "good_data_list=[row.split(\",\") for row in good_data]\n",
    "\n"
   ]
  },
  {
   "cell_type": "code",
   "execution_count": 481,
   "metadata": {},
   "outputs": [
    {
     "name": "stderr",
     "output_type": "stream",
     "text": [
      "C:\\Users\\skandhaswa001\\AppData\\Local\\Continuum\\Anaconda3\\lib\\site-packages\\pandas\\core\\frame.py:2450: SettingWithCopyWarning: \n",
      "A value is trying to be set on a copy of a slice from a DataFrame.\n",
      "Try using .loc[row_indexer,col_indexer] = value instead\n",
      "\n",
      "See the caveats in the documentation: http://pandas.pydata.org/pandas-docs/stable/indexing.html#indexing-view-versus-copy\n",
      "  self[k1] = value[k2]\n"
     ]
    }
   ],
   "source": [
    "#Removing duplicate, striping space and exporting the data to csv\n",
    "df_all=pd.DataFrame(good_data_list,columns=good_data_list[0])[1:]\n",
    "df_all = df_all.rename(columns={'0': 'RowNum'})\n",
    "df=df_all.drop_duplicates([\"CustomerID\"],keep='first')\n",
    "df[df.columns]=df.apply(lambda x: x.str.strip())\n",
    "final_df=df.iloc[0:,1:] #remove index and row num column\n",
    "final_df.to_csv(\"C:\\\\Users\\\\Desktop\\\\Python\\\\Processed.csv\",index=False)\n"
   ]
  },
  {
   "cell_type": "code",
   "execution_count": 515,
   "metadata": {},
   "outputs": [],
   "source": [
    "#Handling Duplicate records into bad file\n",
    "customer_id=df_all[\"CustomerID\"]\n",
    "#Getting only the duplicate record based on Customer id if repeted  -->1\n",
    "dup_rows=df_all[customer_id.isin (customer_id[customer_id.duplicated()])]\n",
    "#Unique customer id , which are dup -->2\n",
    "dup_rows_unique=dup_rows.drop_duplicates([\"CustomerID\"],keep='first')\n",
    "#Removing 2 from 1\n",
    "dup_rows=dup_rows.drop(dup_rows_unique.index)\n",
    "dup_rows=dup_rows.set_index(\"RowNum\")\n",
    "#converting series to list\n",
    "dup_inx=dup_rows.index\n",
    "#looping through the list to get dup record from file and placing into bad data dictionary\n",
    "for each in dup_inx:\n",
    "    each=int(each)\n",
    "    bad_data[each]={}\n",
    "    bad_data[each][\"Duplicate\"]=rows[each]\n",
    "    \n",
    "newdict_bad = {(k1, k2):v2 for k1,v1 in bad_data.items() for k2,v2 in bad_data[k1].items()}   \n"
   ]
  },
  {
   "cell_type": "code",
   "execution_count": 518,
   "metadata": {
    "collapsed": true
   },
   "outputs": [],
   "source": [
    "bad_df = pd.DataFrame([newdict_bad[i] for i in sorted(newdict_bad)],\n",
    "                  index=pd.MultiIndex.from_tuples([i for i in sorted(newdict_bad.keys())]))\n",
    "#bad_df.columns=['Rownum','ErrorType' 'Data']\n",
    "bad_df=bad_df.reset_index()\n",
    "bad_df=bad_df.rename(columns={'level_0':'Rownum','level_1':'ErrorType',0:'Data'})\n",
    "bad_df.to_csv(\"C:\\\\Users\\\\Desktop\\\\Python\\\\Bad_Records.csv\",index=False)"
   ]
  },
  {
   "cell_type": "code",
   "execution_count": 519,
   "metadata": {},
   "outputs": [],
   "source": [
    "#import sqlite3\n",
    "#conn=sqlite3.connect(\"C:\\\\Users\\\\Desktop\\\\Python\\\\Cleanup.db\")\n",
    "#final_df.to_sql(\"Customer1\",conn,index=False)\n",
    "#cur=conn.cursor()\n",
    "#cur.execute(\"select * from Customer;\").fetchall()"
   ]
  },
  {
   "cell_type": "code",
   "execution_count": 612,
   "metadata": {},
   "outputs": [
    {
     "data": {
      "text/plain": [
       "<matplotlib.text.Text at 0xcc834a8>"
      ]
     },
     "execution_count": 612,
     "metadata": {},
     "output_type": "execute_result"
    },
    {
     "data": {
      "image/png": "[encoded data removed]",
      "text/plain": [
       "<matplotlib.figure.Figure at 0xcb3a668>"
      ]
     },
     "metadata": {},
     "output_type": "display_data"
    }
   ],
   "source": [
    "Error_count=bad_df[\"ErrorType\"].value_counts()\n",
    "Index=Error_count.index.tolist()\n",
    "value=Error_count.tolist()\n",
    "bar_positions = np.arange(len(Index)) + 0.75\n",
    "plt.bar(bar_positions,value,label='Error Count')\n",
    "plt.xlabel('Error Type')\n",
    "plt.ylabel('Error Count')\n",
    "plt.xticks(bar_positions,Index,rotation=90)\n",
    "plt.title('Error Count by Type')\n",
    "\n"
   ]
  },
  {
   "cell_type": "code",
   "execution_count": null,
   "metadata": {
    "collapsed": true
   },
   "outputs": [],
   "source": []
  }
 ],
 "metadata": {
  "kernelspec": {
   "display_name": "Python 3",
   "language": "python",
   "name": "python3"
  },
  "language_info": {
   "codemirror_mode": {
    "name": "ipython",
    "version": 3
   },
   "file_extension": ".py",
   "mimetype": "text/x-python",
   "name": "python",
   "nbconvert_exporter": "python",
   "pygments_lexer": "ipython3",
   "version": "3.6.1"
  }
 },
 "nbformat": 4,
 "nbformat_minor": 2
}
