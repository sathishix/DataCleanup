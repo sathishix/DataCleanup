{
 "cells": [
  {
   "cell_type": "code",
   "execution_count": 524,
   "metadata": {
    "collapsed": true
   },
   "outputs": [],
   "source": [
    "import re\n",
    "import pandas as pd\n",
    "import matplotlib.pyplot as plt\n",
    "%matplotlib inline"
   ]
  },
  {
   "cell_type": "code",
   "execution_count": 468,
   "metadata": {},
   "outputs": [],
   "source": [
    "#Open Sample_data file and read each line based on new line\n",
    "file_object=open(\"C:\\\\Users\\\\skandhaswa001\\\\Desktop\\\\Python\\\\Sample_Data.csv\", encoding = 'utf8')\n",
    "data=file_object.read()\n",
    "rows=data.split('\\n')"
   ]
  },
  {
   "cell_type": "code",
   "execution_count": 445,
   "metadata": {},
   "outputs": [],
   "source": [
    "#Count delimiter count from the header of the file\n",
    "delimiter_count=len(rows[0].split(','))"
   ]
  },
  {
   "cell_type": "code",
   "execution_count": 480,
   "metadata": {},
   "outputs": [],
   "source": [
    "bad_data={}\n",
    "good_data=[]\n",
    "good_data_list=[]\n",
    "for idx,line_data in enumerate(rows) : \n",
    "    bad_data[idx]={}\n",
    "    #Blank space row moving into bad_data\n",
    "    if line_data=='': \n",
    "        bad_data[idx][\"Blank Row\"]=line_data\n",
    "    #Special Characters row moving into bad_data\n",
    "    elif re.search(r'[@#!\\$ひらが]',line_data) :        \n",
    "        bad_data[idx][\"Special Characters\"]=line_data\n",
    "    elif len(line_data.replace(',',''))==0 :\n",
    "        bad_data[idx][\"Empty String\"]=line_data\n",
    "    #Inconsistent delimiter row moving into bad_data\n",
    "    elif  len(line_data.split(','))!= delimiter_count :\n",
    "        bad_data[idx][\"Inconsistent Delimiter\"]=line_data\n",
    "    else :\n",
    "        con=str(idx)+\",\"+line_data\n",
    "        good_data.append(con)\n",
    "    \n",
    "bad_data={key: value for (key,value) in  bad_data.items() if value} \n",
    "good_data_list=[row.split(\",\") for row in good_data]\n",
    "\n"
   ]
  },
  {
   "cell_type": "code",
   "execution_count": 481,
   "metadata": {},
   "outputs": [
    {
     "name": "stderr",
     "output_type": "stream",
     "text": [
      "C:\\Users\\skandhaswa001\\AppData\\Local\\Continuum\\Anaconda3\\lib\\site-packages\\pandas\\core\\frame.py:2450: SettingWithCopyWarning: \n",
      "A value is trying to be set on a copy of a slice from a DataFrame.\n",
      "Try using .loc[row_indexer,col_indexer] = value instead\n",
      "\n",
      "See the caveats in the documentation: http://pandas.pydata.org/pandas-docs/stable/indexing.html#indexing-view-versus-copy\n",
      "  self[k1] = value[k2]\n"
     ]
    }
   ],
   "source": [
    "#Removing duplicate, striping space and exporting the data to csv\n",
    "df_all=pd.DataFrame(good_data_list,columns=good_data_list[0])[1:]\n",
    "df_all = df_all.rename(columns={'0': 'RowNum'})\n",
    "df=df_all.drop_duplicates([\"CustomerID\"],keep='first')\n",
    "df[df.columns]=df.apply(lambda x: x.str.strip())\n",
    "final_df=df.iloc[0:,1:] #remove index and row num column\n",
    "final_df.to_csv(\"C:\\\\Users\\\\skandhaswa001\\\\Desktop\\\\Python\\\\Processed.csv\",index=False)\n"
   ]
  },
  {
   "cell_type": "code",
   "execution_count": 515,
   "metadata": {},
   "outputs": [],
   "source": [
    "#Handling Duplicate records into bad file\n",
    "customer_id=df_all[\"CustomerID\"]\n",
    "#Getting only the duplicate record based on Customer id if repeted  -->1\n",
    "dup_rows=df_all[customer_id.isin (customer_id[customer_id.duplicated()])]\n",
    "#Unique customer id , which are dup -->2\n",
    "dup_rows_unique=dup_rows.drop_duplicates([\"CustomerID\"],keep='first')\n",
    "#Removing 2 from 1\n",
    "dup_rows=dup_rows.drop(dup_rows_unique.index)\n",
    "dup_rows=dup_rows.set_index(\"RowNum\")\n",
    "#converting series to list\n",
    "dup_inx=dup_rows.index\n",
    "#looping through the list to get dup record from file and placing into bad data dictionary\n",
    "for each in dup_inx:\n",
    "    each=int(each)\n",
    "    bad_data[each]={}\n",
    "    bad_data[each][\"Duplicate\"]=rows[each]\n",
    "    \n",
    "newdict_bad = {(k1, k2):v2 for k1,v1 in bad_data.items() for k2,v2 in bad_data[k1].items()}   \n"
   ]
  },
  {
   "cell_type": "code",
   "execution_count": 518,
   "metadata": {
    "collapsed": true
   },
   "outputs": [],
   "source": [
    "bad_df = pd.DataFrame([newdict_bad[i] for i in sorted(newdict_bad)],\n",
    "                  index=pd.MultiIndex.from_tuples([i for i in sorted(newdict_bad.keys())]))\n",
    "#bad_df.columns=['Rownum','ErrorType' 'Data']\n",
    "bad_df=bad_df.reset_index()\n",
    "bad_df=bad_df.rename(columns={'level_0':'Rownum','level_1':'ErrorType',0:'Data'})\n",
    "bad_df.to_csv(\"C:\\\\Users\\\\skandhaswa001\\\\Desktop\\\\Python\\\\Bad_Records.csv\",index=False)"
   ]
  },
  {
   "cell_type": "code",
   "execution_count": 519,
   "metadata": {},
   "outputs": [],
   "source": [
    "#import sqlite3\n",
    "#conn=sqlite3.connect(\"C:\\\\Users\\\\skandhaswa001\\\\Desktop\\\\Python\\\\Cleanup.db\")\n",
    "#final_df.to_sql(\"Customer1\",conn,index=False)\n",
    "#cur=conn.cursor()\n",
    "#cur.execute(\"select * from Customer;\").fetchall()"
   ]
  },
  {
   "cell_type": "code",
   "execution_count": 590,
   "metadata": {},
   "outputs": [
    {
     "ename": "ValueError",
     "evalue": "incompatible sizes: argument 'height' must be length 1 or scalar",
     "output_type": "error",
     "traceback": [
      "\u001b[1;31m---------------------------------------------------------------------------\u001b[0m",
      "\u001b[1;31mValueError\u001b[0m                                Traceback (most recent call last)",
      "\u001b[1;32m<ipython-input-590-350f0c1be6fb>\u001b[0m in \u001b[0;36m<module>\u001b[1;34m()\u001b[0m\n\u001b[0;32m      2\u001b[0m \u001b[0mIndex\u001b[0m\u001b[1;33m=\u001b[0m\u001b[0mError_count\u001b[0m\u001b[1;33m.\u001b[0m\u001b[0mindex\u001b[0m\u001b[1;33m.\u001b[0m\u001b[0mtolist\u001b[0m\u001b[1;33m(\u001b[0m\u001b[1;33m)\u001b[0m\u001b[1;33m\u001b[0m\u001b[0m\n\u001b[0;32m      3\u001b[0m \u001b[0mvalue\u001b[0m\u001b[1;33m=\u001b[0m\u001b[0mpd\u001b[0m\u001b[1;33m.\u001b[0m\u001b[0mto_numeric\u001b[0m\u001b[1;33m(\u001b[0m\u001b[0mError_count\u001b[0m\u001b[1;33m.\u001b[0m\u001b[0mtolist\u001b[0m\u001b[1;33m(\u001b[0m\u001b[1;33m)\u001b[0m\u001b[1;33m)\u001b[0m\u001b[1;33m\u001b[0m\u001b[0m\n\u001b[1;32m----> 4\u001b[1;33m \u001b[0mplt\u001b[0m\u001b[1;33m.\u001b[0m\u001b[0mbar\u001b[0m\u001b[1;33m(\u001b[0m \u001b[1;36m4\u001b[0m\u001b[1;33m,\u001b[0m\u001b[0mvalue\u001b[0m\u001b[1;33m,\u001b[0m\u001b[1;36m0.5\u001b[0m\u001b[1;33m)\u001b[0m\u001b[1;33m\u001b[0m\u001b[0m\n\u001b[0m\u001b[0;32m      5\u001b[0m \u001b[1;33m\u001b[0m\u001b[0m\n",
      "\u001b[1;32mC:\\Users\\skandhaswa001\\AppData\\Local\\Continuum\\Anaconda3\\lib\\site-packages\\matplotlib\\pyplot.py\u001b[0m in \u001b[0;36mbar\u001b[1;34m(left, height, width, bottom, hold, data, **kwargs)\u001b[0m\n\u001b[0;32m   2702\u001b[0m     \u001b[1;32mtry\u001b[0m\u001b[1;33m:\u001b[0m\u001b[1;33m\u001b[0m\u001b[0m\n\u001b[0;32m   2703\u001b[0m         ret = ax.bar(left, height, width=width, bottom=bottom, data=data,\n\u001b[1;32m-> 2704\u001b[1;33m                      **kwargs)\n\u001b[0m\u001b[0;32m   2705\u001b[0m     \u001b[1;32mfinally\u001b[0m\u001b[1;33m:\u001b[0m\u001b[1;33m\u001b[0m\u001b[0m\n\u001b[0;32m   2706\u001b[0m         \u001b[0max\u001b[0m\u001b[1;33m.\u001b[0m\u001b[0m_hold\u001b[0m \u001b[1;33m=\u001b[0m \u001b[0mwashold\u001b[0m\u001b[1;33m\u001b[0m\u001b[0m\n",
      "\u001b[1;32mC:\\Users\\skandhaswa001\\AppData\\Local\\Continuum\\Anaconda3\\lib\\site-packages\\matplotlib\\__init__.py\u001b[0m in \u001b[0;36minner\u001b[1;34m(ax, *args, **kwargs)\u001b[0m\n\u001b[0;32m   1895\u001b[0m                     warnings.warn(msg % (label_namer, func.__name__),\n\u001b[0;32m   1896\u001b[0m                                   RuntimeWarning, stacklevel=2)\n\u001b[1;32m-> 1897\u001b[1;33m             \u001b[1;32mreturn\u001b[0m \u001b[0mfunc\u001b[0m\u001b[1;33m(\u001b[0m\u001b[0max\u001b[0m\u001b[1;33m,\u001b[0m \u001b[1;33m*\u001b[0m\u001b[0margs\u001b[0m\u001b[1;33m,\u001b[0m \u001b[1;33m**\u001b[0m\u001b[0mkwargs\u001b[0m\u001b[1;33m)\u001b[0m\u001b[1;33m\u001b[0m\u001b[0m\n\u001b[0m\u001b[0;32m   1898\u001b[0m         \u001b[0mpre_doc\u001b[0m \u001b[1;33m=\u001b[0m \u001b[0minner\u001b[0m\u001b[1;33m.\u001b[0m\u001b[0m__doc__\u001b[0m\u001b[1;33m\u001b[0m\u001b[0m\n\u001b[0;32m   1899\u001b[0m         \u001b[1;32mif\u001b[0m \u001b[0mpre_doc\u001b[0m \u001b[1;32mis\u001b[0m \u001b[1;32mNone\u001b[0m\u001b[1;33m:\u001b[0m\u001b[1;33m\u001b[0m\u001b[0m\n",
      "\u001b[1;32mC:\\Users\\skandhaswa001\\AppData\\Local\\Continuum\\Anaconda3\\lib\\site-packages\\matplotlib\\axes\\_axes.py\u001b[0m in \u001b[0;36mbar\u001b[1;34m(self, left, height, width, bottom, **kwargs)\u001b[0m\n\u001b[0;32m   2077\u001b[0m         \u001b[1;32mif\u001b[0m \u001b[0mlen\u001b[0m\u001b[1;33m(\u001b[0m\u001b[0mheight\u001b[0m\u001b[1;33m)\u001b[0m \u001b[1;33m!=\u001b[0m \u001b[0mnbars\u001b[0m\u001b[1;33m:\u001b[0m\u001b[1;33m\u001b[0m\u001b[0m\n\u001b[0;32m   2078\u001b[0m             raise ValueError(\"incompatible sizes: argument 'height' \"\n\u001b[1;32m-> 2079\u001b[1;33m                               \"must be length %d or scalar\" % nbars)\n\u001b[0m\u001b[0;32m   2080\u001b[0m         \u001b[1;32mif\u001b[0m \u001b[0mlen\u001b[0m\u001b[1;33m(\u001b[0m\u001b[0mwidth\u001b[0m\u001b[1;33m)\u001b[0m \u001b[1;33m!=\u001b[0m \u001b[0mnbars\u001b[0m\u001b[1;33m:\u001b[0m\u001b[1;33m\u001b[0m\u001b[0m\n\u001b[0;32m   2081\u001b[0m             raise ValueError(\"incompatible sizes: argument 'width' \"\n",
      "\u001b[1;31mValueError\u001b[0m: incompatible sizes: argument 'height' must be length 1 or scalar"
     ]
    },
    {
     "data": {
      "image/png": "[encoded data removed]",
      "text/plain": [
       "<matplotlib.figure.Figure at 0xcae4c50>"
      ]
     },
     "metadata": {},
     "output_type": "display_data"
    }
   ],
   "source": [
    "Error_count=bad_df[\"ErrorType\"].value_counts()\n",
    "Index=Error_count.index.tolist()\n",
    "value=pd.to_numeric(Error_count.tolist())\n",
    "plt.bar( 4,value,0.5)\n",
    "\n"
   ]
  },
  {
   "cell_type": "code",
   "execution_count": null,
   "metadata": {
    "collapsed": true
   },
   "outputs": [],
   "source": []
  }
 ],
 "metadata": {
  "kernelspec": {
   "display_name": "Python 3",
   "language": "python",
   "name": "python3"
  },
  "language_info": {
   "codemirror_mode": {
    "name": "ipython",
    "version": 3
   },
   "file_extension": ".py",
   "mimetype": "text/x-python",
   "name": "python",
   "nbconvert_exporter": "python",
   "pygments_lexer": "ipython3",
   "version": "3.6.1"
  }
 },
 "nbformat": 4,
 "nbformat_minor": 2
}
